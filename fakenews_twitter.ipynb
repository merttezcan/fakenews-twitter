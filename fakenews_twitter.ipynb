{
  "nbformat": 4,
  "nbformat_minor": 0,
  "metadata": {
    "colab": {
      "name": "fakenews-twitter.ipynb",
      "provenance": [],
      "authorship_tag": "ABX9TyPRnjO257rSw/y/24/d5VT8",
      "include_colab_link": true
    },
    "kernelspec": {
      "name": "python3",
      "display_name": "Python 3"
    },
    "language_info": {
      "name": "python"
    }
  },
  "cells": [
    {
      "cell_type": "markdown",
      "metadata": {
        "id": "view-in-github",
        "colab_type": "text"
      },
      "source": [
        "<a href=\"https://colab.research.google.com/github/merttezcan/fakenews-twitter/blob/main/fakenews_twitter.ipynb\" target=\"_parent\"><img src=\"https://colab.research.google.com/assets/colab-badge.svg\" alt=\"Open In Colab\"/></a>"
      ]
    },
    {
      "cell_type": "code",
      "metadata": {
        "id": "TALniBtBNpP5"
      },
      "source": [
        "!pip install dgl -f https://data.dgl.ai/wheels/repo.html"
      ],
      "execution_count": null,
      "outputs": []
    },
    {
      "cell_type": "code",
      "metadata": {
        "id": "YUsvDhgWqnts"
      },
      "source": [
        "import pandas as pd\n",
        "import numpy as np\n",
        "import dgl\n",
        "import torch as th"
      ],
      "execution_count": null,
      "outputs": []
    },
    {
      "cell_type": "code",
      "metadata": {
        "id": "_bVquXT2rB3Q"
      },
      "source": [
        "#loading the nodes and features, replacing ids with new consecutive ids starting from zero.\n",
        "#also doing some preprocessing\n",
        "\n",
        "nodes_data = pd.read_csv('gilani-2017-features.csv')\n",
        "nodes_data.rename(columns={'id': 'tw_id'}, inplace=True)\n",
        "nodes_data.insert(0, 'new_id', range(0, 0 + len(nodes_data)))\n",
        "nodes_data.drop(['name','screen_name','url','lang','time_zone','location','default_profile',\n",
        "                           'default_profile_image','geo_enabled','profile_image_url','profile_use_background_image',\n",
        "                           'profile_background_image_url_https','profile_text_color','profile_image_url_https',\n",
        "                           'profile_sidebar_border_color','profile_background_tile','profile_sidebar_fill_color',\n",
        "                           'profile_background_image_url','profile_background_color','profile_link_color','utc_offset',\n",
        "                           'description','created_at'], axis=1, inplace=True)\n",
        "\n",
        "nodes_data.replace({'class': {'human': True, 'bot': False}}, inplace=True)\n",
        "\n",
        "display(nodes_data)"
      ],
      "execution_count": null,
      "outputs": []
    },
    {
      "cell_type": "code",
      "metadata": {
        "id": "0MUxJvOurD0Y"
      },
      "source": [
        "#creating a small df to have tw_id and new_id, then converting it to a dictionary\n",
        "\n",
        "df= nodes_data[['tw_id', 'new_id']]\n",
        "df = df.astype('int64')\n",
        "id_dict = dict(df.values)"
      ],
      "execution_count": null,
      "outputs": []
    },
    {
      "cell_type": "code",
      "metadata": {
        "id": "7YTefamork6T"
      },
      "source": [
        "#checking our dict\n",
        "\n",
        "print(id_dict)"
      ],
      "execution_count": null,
      "outputs": []
    },
    {
      "cell_type": "code",
      "metadata": {
        "id": "I_ubc3LXs3_V"
      },
      "source": [
        "#loading the friends file that contains user id and friend id\n",
        "\n",
        "edges_data = pd.read_csv(\"friends.csv\",names=['user_id', 'friend_id'])\n",
        "edges_data.dropna(inplace=True)\n",
        "\n",
        "edges_data = edges_data.astype('int64')\n",
        "\n",
        "print(edges_data)"
      ],
      "execution_count": null,
      "outputs": []
    },
    {
      "cell_type": "code",
      "metadata": {
        "id": "4egZ-_ivtUAK"
      },
      "source": [
        "#using the dict that we created before, matching the ids with the new ones\n",
        "\n",
        "edges_data['fr_source'] = edges_data['user_id'].map(id_dict)\n",
        "edges_data['fr_target'] = edges_data['friend_id'].map(id_dict)\n",
        "\n",
        "\n",
        "display(edges_data)"
      ],
      "execution_count": null,
      "outputs": []
    },
    {
      "cell_type": "code",
      "metadata": {
        "id": "1JfCrsPA4xEa"
      },
      "source": [
        "#dropping the null values, that means we are removing the users that are not connected to each other\n",
        "\n",
        "fr_edges_df = edges_data.dropna()\n",
        "fr_edges_df = fr_edges_df.astype('int64')"
      ],
      "execution_count": null,
      "outputs": []
    },
    {
      "cell_type": "code",
      "metadata": {
        "id": "QMNVKh6J6mfK"
      },
      "source": [
        "display(fr_edges_df)"
      ],
      "execution_count": null,
      "outputs": []
    },
    {
      "cell_type": "code",
      "metadata": {
        "id": "Ju_FL9tW7FGa"
      },
      "source": [
        "#doing same process for the followers file\n",
        "\n",
        "edges_data2 = pd.read_csv(\"followers.csv\",names=['user_id', 'follower_id'])\n",
        "edges_data2.dropna(inplace=True)\n",
        "\n",
        "edges_data2 = edges_data2.astype('int64')\n",
        "\n",
        "print(edges_data2)"
      ],
      "execution_count": null,
      "outputs": []
    },
    {
      "cell_type": "code",
      "metadata": {
        "id": "4ZJ8OoTe8Pao"
      },
      "source": [
        "edges_data2['fw_source'] = edges_data2['user_id'].map(id_dict)\n",
        "edges_data2['fw_target'] = edges_data2['follower_id'].map(id_dict)\n",
        "\n",
        "\n",
        "display(edges_data2)"
      ],
      "execution_count": null,
      "outputs": []
    },
    {
      "cell_type": "code",
      "metadata": {
        "id": "R66CiAXd9G7O"
      },
      "source": [
        "fw_edges_df = edges_data2.dropna()\n",
        "fw_edges_df = fw_edges_df.astype('int64')"
      ],
      "execution_count": null,
      "outputs": []
    },
    {
      "cell_type": "code",
      "metadata": {
        "id": "5CIKbVEo9L9U"
      },
      "source": [
        "display(fw_edges_df)"
      ],
      "execution_count": null,
      "outputs": []
    },
    {
      "cell_type": "code",
      "metadata": {
        "id": "FkK10ocm-YeW"
      },
      "source": [
        "# Create an empty list\n",
        "fr_list =[]\n",
        "\n",
        "# Iterate over each row\n",
        "for rows in fr_edges_df.itertuples():\n",
        "\t# Create list for the current row\n",
        "\tmy_list =[rows.fr_source, rows.fr_target]\n",
        "\t\n",
        "\t# append the list to the final list\n",
        "\tfr_list.append(my_list)\n",
        "\n",
        "# Print the list\n",
        "print(fr_list)"
      ],
      "execution_count": null,
      "outputs": []
    },
    {
      "cell_type": "code",
      "metadata": {
        "id": "RjRzBl6-Q8aW"
      },
      "source": [
        "# Create an empty list\n",
        "fw_list =[]\n",
        "\n",
        "# Iterate over each row\n",
        "for rows in fw_edges_df.itertuples():\n",
        "\t# Create list for the current row\n",
        "\tmy_list =[rows.fw_source, rows.fw_target]\n",
        "\t\n",
        "\t# append the list to the final list\n",
        "\tfw_list.append(my_list)\n",
        "\n",
        "# Print the list\n",
        "print(fw_list)"
      ],
      "execution_count": null,
      "outputs": []
    },
    {
      "cell_type": "code",
      "metadata": {
        "id": "xTLWJr0V-XlR"
      },
      "source": [
        "#creating an heterograph with using our edge lists\n",
        "\n",
        "g = dgl.heterograph(\n",
        "    {('user', 'friend', 'user'): fr_list,\n",
        "     ('user', 'follow', 'user'): fw_list\n",
        "     })\n",
        "g"
      ],
      "execution_count": null,
      "outputs": []
    },
    {
      "cell_type": "code",
      "metadata": {
        "id": "1Hl707hG-bBj"
      },
      "source": [
        "g['friend'].edges()"
      ],
      "execution_count": null,
      "outputs": []
    },
    {
      "cell_type": "code",
      "metadata": {
        "id": "RMZDtHJD-enB"
      },
      "source": [
        "#a function for creating tensors for features easily\n",
        "\n",
        "def tensorCreator(df):\n",
        "\n",
        "  i = 1\n",
        "\n",
        "  for column in df.columns[1:]:\n",
        "    globals()[\"t\"+ str(i)] = th.tensor(df[column].values)\n",
        "    i += 1\n",
        "\n",
        "tensorCreator(nodes_data)   "
      ],
      "execution_count": null,
      "outputs": []
    },
    {
      "cell_type": "code",
      "metadata": {
        "id": "KEi4s3G8-fn0"
      },
      "source": [
        "#adding the tensors to the graph\n",
        "\n",
        "g.ndata['class'] = t1\n",
        "g.ndata['tw_id'] = t2\n",
        "g.ndata['statuses_count'] = t3\n",
        "g.ndata['followers_count'] = t4\n",
        "g.ndata['friends_count'] = t5\n",
        "g.ndata['favourites_count'] = t6\n",
        "g.ndata['listed_count'] = t7\n",
        "g.ndata['is_translator'] = t8\n",
        "g.ndata['follow_request_sent'] = t9\n",
        "g.ndata['protected'] = t10\n",
        "g.ndata['verified'] = t11\n",
        "g.ndata['notifications'] = t12\n",
        "g.ndata['contributors_enabled'] = t13\n",
        "g.ndata['following'] = t14"
      ],
      "execution_count": null,
      "outputs": []
    },
    {
      "cell_type": "code",
      "metadata": {
        "id": "iYEdMJn0-hRW"
      },
      "source": [
        "#done! we can check all of the nodes' features. for example:\n",
        "g.nodes[2400]"
      ],
      "execution_count": null,
      "outputs": []
    },
    {
      "cell_type": "code",
      "metadata": {
        "id": "x-NJ4zIGTBEQ"
      },
      "source": [
        "!pip install node2vec"
      ],
      "execution_count": null,
      "outputs": []
    },
    {
      "cell_type": "code",
      "metadata": {
        "id": "aoixQwUnQ8aa"
      },
      "source": [
        "import networkx as nx\n",
        "from node2vec import Node2Vec"
      ],
      "execution_count": null,
      "outputs": []
    },
    {
      "cell_type": "code",
      "metadata": {
        "id": "vQsSN0a0Q8ab"
      },
      "source": [
        "KGF = nx.Graph(fr_list)"
      ],
      "execution_count": null,
      "outputs": []
    },
    {
      "cell_type": "code",
      "metadata": {
        "id": "6xrUj-7iQ8ab"
      },
      "source": [
        "KGF.number_of_nodes(), KGF.number_of_edges()"
      ],
      "execution_count": null,
      "outputs": []
    },
    {
      "cell_type": "code",
      "metadata": {
        "id": "6UA9gUT_Q8ab"
      },
      "source": [
        "KGFol = nx.Graph(fw_list)"
      ],
      "execution_count": null,
      "outputs": []
    },
    {
      "cell_type": "code",
      "metadata": {
        "id": "7-0dhtPKQ8ab"
      },
      "source": [
        "KGFol.number_of_nodes(), KGFol.number_of_edges()"
      ],
      "execution_count": null,
      "outputs": []
    },
    {
      "cell_type": "code",
      "metadata": {
        "id": "WC11Fk_MQ8ab"
      },
      "source": [
        "node2vec = Node2Vec(KGF, dimensions=32, walk_length=30, num_walks=200, workers=4)"
      ],
      "execution_count": null,
      "outputs": []
    },
    {
      "cell_type": "code",
      "metadata": {
        "id": "b0AE4stOQ8ab"
      },
      "source": [
        "model = node2vec.fit(window=10, min_count=1, batch_words=4)"
      ],
      "execution_count": null,
      "outputs": []
    },
    {
      "cell_type": "code",
      "metadata": {
        "id": "hjdbiVuCQ8ac"
      },
      "source": [
        "node2vec_fw = Node2Vec(KGFol, dimensions=32, walk_length=30, num_walks=200, workers=4)"
      ],
      "execution_count": null,
      "outputs": []
    },
    {
      "cell_type": "code",
      "metadata": {
        "id": "4fKuHKNHQ8ad"
      },
      "source": [
        "model_fw = node2vec_fw.fit(window=10, min_count=1, batch_words=4)"
      ],
      "execution_count": null,
      "outputs": []
    },
    {
      "cell_type": "code",
      "metadata": {
        "id": "ib0uvMnvQ8ae"
      },
      "source": [
        "arr = []\n",
        "arr2 = []\n",
        "for i in range(0, KGF.number_of_nodes()):\n",
        "  arr.append(model.wv.vectors[i])\n",
        "  arr2.append(i)"
      ],
      "execution_count": null,
      "outputs": []
    },
    {
      "cell_type": "code",
      "metadata": {
        "id": "BDWvRmx7Q8ae"
      },
      "source": [
        "n_dict = dict(zip(arr2, arr))"
      ],
      "execution_count": null,
      "outputs": []
    },
    {
      "cell_type": "code",
      "metadata": {
        "id": "_H01pBatQ8ae"
      },
      "source": [
        "print(len(n_dict))"
      ],
      "execution_count": null,
      "outputs": []
    },
    {
      "cell_type": "code",
      "metadata": {
        "id": "jVbDeU_IQ8ae"
      },
      "source": [
        "#check\n",
        "print(model.wv.vectors[7])\n",
        "print(n_dict[7])"
      ],
      "execution_count": null,
      "outputs": []
    },
    {
      "cell_type": "code",
      "metadata": {
        "id": "GwNy_BwsQ8ae"
      },
      "source": [
        "fw_arr = []\n",
        "fw_arr2 = []\n",
        "for i in range(0, KGFol.number_of_nodes()):\n",
        "    fw_arr.append(model_fw.wv.vectors[i])\n",
        "    fw_arr2.append(i)"
      ],
      "execution_count": null,
      "outputs": []
    },
    {
      "cell_type": "code",
      "metadata": {
        "id": "hTNomIwmQ8af"
      },
      "source": [
        "n_dict_fw = dict(zip(fw_arr2, fw_arr))"
      ],
      "execution_count": null,
      "outputs": []
    },
    {
      "cell_type": "code",
      "metadata": {
        "id": "uiUPKTvdQ8af"
      },
      "source": [
        "#check\n",
        "print(model_fw.wv.vectors[500])\n",
        "print(n_dict_fw[500])"
      ],
      "execution_count": null,
      "outputs": []
    },
    {
      "cell_type": "code",
      "metadata": {
        "id": "C5Y6eprhQ8af"
      },
      "source": [
        "embedding_df_fr = pd.DataFrame.from_dict(n_dict, orient='index').reset_index()"
      ],
      "execution_count": null,
      "outputs": []
    },
    {
      "cell_type": "code",
      "metadata": {
        "id": "gIQkWd6QQ8af"
      },
      "source": [
        "col_list = []\n",
        "for i in range (0,32):\n",
        "    col_list.append(\"f\" + str(i))\n",
        "    \n",
        "col_list.insert(0, \"id\")\n",
        "\n",
        "embedding_df_fr.columns = col_list"
      ],
      "execution_count": null,
      "outputs": []
    },
    {
      "cell_type": "code",
      "metadata": {
        "id": "tzmUH1xr7FgQ"
      },
      "source": [
        "list2 = col_list.copy()"
      ],
      "execution_count": null,
      "outputs": []
    },
    {
      "cell_type": "code",
      "metadata": {
        "id": "GG10MpWw9Yb1"
      },
      "source": [
        "list2.remove('id')"
      ],
      "execution_count": null,
      "outputs": []
    },
    {
      "cell_type": "code",
      "metadata": {
        "id": "J_7gEHu7Q8af"
      },
      "source": [
        "display(embedding_df_fr)"
      ],
      "execution_count": null,
      "outputs": []
    },
    {
      "cell_type": "code",
      "metadata": {
        "id": "tO00KxMZQ8ag"
      },
      "source": [
        "embedding_df_fw = pd.DataFrame.from_dict(n_dict_fw, orient='index').reset_index()"
      ],
      "execution_count": null,
      "outputs": []
    },
    {
      "cell_type": "code",
      "metadata": {
        "id": "AIftJjb6Q8ag"
      },
      "source": [
        "embedding_df_fw.columns = col_list"
      ],
      "execution_count": null,
      "outputs": []
    },
    {
      "cell_type": "code",
      "metadata": {
        "id": "Bx_YT5VrQ8ag"
      },
      "source": [
        "display(embedding_df_fw)"
      ],
      "execution_count": null,
      "outputs": []
    },
    {
      "cell_type": "code",
      "metadata": {
        "id": "92ShMVPoQ8ag"
      },
      "source": [
        "embedding_df_fr.rename(columns={'id': 'new_id'}, inplace=True)"
      ],
      "execution_count": null,
      "outputs": []
    },
    {
      "cell_type": "code",
      "metadata": {
        "id": "dddK0oEzQ8ah"
      },
      "source": [
        "display(embedding_df_fr)"
      ],
      "execution_count": null,
      "outputs": []
    },
    {
      "cell_type": "code",
      "metadata": {
        "id": "57BVotflQ8ah"
      },
      "source": [
        "embedding_df_fw.rename(columns={'id': 'new_id'}, inplace=True)"
      ],
      "execution_count": null,
      "outputs": []
    },
    {
      "cell_type": "code",
      "metadata": {
        "id": "ed4Snem6Q8ah"
      },
      "source": [
        "display(embedding_df_fw)"
      ],
      "execution_count": null,
      "outputs": []
    },
    {
      "cell_type": "code",
      "metadata": {
        "id": "iOZzzhD7Q8aw"
      },
      "source": [
        "final_data = pd.concat((embedding_df_fr, embedding_df_fw))\n",
        "final_data = final_data.groupby(final_data.index).mean()"
      ],
      "execution_count": null,
      "outputs": []
    },
    {
      "cell_type": "code",
      "metadata": {
        "id": "6dud4U4Gg_dW"
      },
      "source": [
        "display(final_data)"
      ],
      "execution_count": null,
      "outputs": []
    },
    {
      "cell_type": "code",
      "metadata": {
        "id": "Qzonsqbeitki"
      },
      "source": [
        "from sklearn.utils.extmath import softmax\n",
        "emb_arr = final_data.drop(columns='new_id').to_numpy()"
      ],
      "execution_count": null,
      "outputs": []
    },
    {
      "cell_type": "code",
      "metadata": {
        "id": "Y2k8j3N6jVQO"
      },
      "source": [
        "print(emb_arr)"
      ],
      "execution_count": null,
      "outputs": []
    },
    {
      "cell_type": "code",
      "metadata": {
        "id": "X3x0HH-wjeyD"
      },
      "source": [
        "s_arr = softmax(emb_arr)"
      ],
      "execution_count": null,
      "outputs": []
    },
    {
      "cell_type": "code",
      "metadata": {
        "id": "AVKdEIX_jlSh"
      },
      "source": [
        "print(s_arr)"
      ],
      "execution_count": null,
      "outputs": []
    },
    {
      "cell_type": "code",
      "metadata": {
        "id": "iVehUvxjj72T"
      },
      "source": [
        "softmax_df = pd.DataFrame(s_arr, columns=list2)\n",
        "display(softmax_df)"
      ],
      "execution_count": null,
      "outputs": []
    },
    {
      "cell_type": "code",
      "metadata": {
        "id": "-xSq-wFKktrh"
      },
      "source": [
        "id_value = final_data['new_id']\n",
        "print(id_value)"
      ],
      "execution_count": null,
      "outputs": []
    },
    {
      "cell_type": "code",
      "metadata": {
        "id": "6UI6XrHmqKb_"
      },
      "source": [
        "softmax_df.set_index(keys=id_value, inplace=True)"
      ],
      "execution_count": null,
      "outputs": []
    },
    {
      "cell_type": "code",
      "metadata": {
        "id": "myZuvXzOntts"
      },
      "source": [
        "display(softmax_df)"
      ],
      "execution_count": null,
      "outputs": []
    },
    {
      "cell_type": "code",
      "metadata": {
        "id": "-TfXBQEmsbPr"
      },
      "source": [
        "softmax_df['new_id'] = softmax_df.index"
      ],
      "execution_count": null,
      "outputs": []
    },
    {
      "cell_type": "code",
      "metadata": {
        "id": "uqA3dKaytqyP"
      },
      "source": [
        "softmax_df = softmax_df[ ['new_id'] + [ col for col in softmax_df.columns if col != 'new_id' ] ]\n",
        "softmax_df.index.name = None"
      ],
      "execution_count": null,
      "outputs": []
    },
    {
      "cell_type": "code",
      "metadata": {
        "id": "ffsNWsq-si-K"
      },
      "source": [
        "display(softmax_df)"
      ],
      "execution_count": null,
      "outputs": []
    },
    {
      "cell_type": "code",
      "metadata": {
        "id": "gs9trsHkkZKc"
      },
      "source": [
        "merged_final_data = pd.merge(nodes_data, softmax_df, how='outer', on='new_id')"
      ],
      "execution_count": null,
      "outputs": []
    },
    {
      "cell_type": "code",
      "metadata": {
        "id": "6PGZj7rHpvdI"
      },
      "source": [
        "merged_final_data = merged_final_data.dropna()"
      ],
      "execution_count": null,
      "outputs": []
    },
    {
      "cell_type": "code",
      "metadata": {
        "id": "LBTAnHYvqIgJ"
      },
      "source": [
        "display(merged_final_data)"
      ],
      "execution_count": null,
      "outputs": []
    },
    {
      "cell_type": "code",
      "metadata": {
        "id": "xhqd0yZPqKJr"
      },
      "source": [
        "label = merged_final_data['class']\n",
        "merged_final_data = merged_final_data.drop(columns='class')\n",
        "merged_final_data.insert(loc=46, column='label', value=label)\n",
        "merged_final_data = merged_final_data.drop(columns=['new_id', 'tw_id'])"
      ],
      "execution_count": null,
      "outputs": []
    },
    {
      "cell_type": "code",
      "metadata": {
        "id": "-qnCCkj0qxbq"
      },
      "source": [
        "display(merged_final_data)"
      ],
      "execution_count": null,
      "outputs": []
    },
    {
      "cell_type": "code",
      "metadata": {
        "id": "xlVOLdo4q0T1"
      },
      "source": [
        "X = merged_final_data.iloc[:,:-1]\n",
        "\n",
        "y = merged_final_data.iloc[:,-1]"
      ],
      "execution_count": null,
      "outputs": []
    },
    {
      "cell_type": "code",
      "metadata": {
        "id": "g_bHP0-WrZvQ"
      },
      "source": [
        "from sklearn.model_selection import train_test_split\n",
        "\n",
        "X_train, X_test, y_train, y_test = train_test_split(X, y, test_size=0.2, random_state=42)"
      ],
      "execution_count": null,
      "outputs": []
    },
    {
      "cell_type": "code",
      "metadata": {
        "id": "DB3BLp2srdzT"
      },
      "source": [
        "from sklearn.preprocessing import StandardScaler\n",
        "\n",
        "sc = StandardScaler()\n",
        "X_train = sc.fit_transform(X_train)\n",
        "X_test = sc.transform(X_test)"
      ],
      "execution_count": null,
      "outputs": []
    },
    {
      "cell_type": "code",
      "metadata": {
        "id": "PVfTH3FCiPKt"
      },
      "source": [
        "scaled_df = pd.DataFrame(X_train)\n",
        "display(scaled_df)"
      ],
      "execution_count": null,
      "outputs": []
    },
    {
      "cell_type": "code",
      "metadata": {
        "id": "yxj31c33rhLq"
      },
      "source": [
        "from sklearn.ensemble import RandomForestClassifier\n",
        "\n",
        "clf = RandomForestClassifier(n_estimators=20, random_state=0)\n",
        "clf.fit(X_train, y_train)\n",
        "y_pred = clf.predict(X_test)"
      ],
      "execution_count": null,
      "outputs": []
    },
    {
      "cell_type": "code",
      "metadata": {
        "id": "rV34I1I6rml2"
      },
      "source": [
        "from sklearn.metrics import classification_report, confusion_matrix, accuracy_score\n",
        "print(confusion_matrix(y_test, y_pred))\n",
        "print(classification_report(y_test, y_pred))\n",
        "print(accuracy_score(y_test, y_pred))"
      ],
      "execution_count": null,
      "outputs": []
    },
    {
      "cell_type": "code",
      "metadata": {
        "id": "WleB9qmMyRew"
      },
      "source": [
        "from sklearn.model_selection import GridSearchCV\n",
        "\n",
        "rfc = RandomForestClassifier(random_state=42)\n",
        "\n",
        "param_grid = { \n",
        "    'n_estimators': [50, 150, 250],\n",
        "    'max_features': ['auto', 'sqrt',  0.5, 1.0],\n",
        "    'min_samples_split' : [2, 4, 6],\n",
        "}\n"
      ],
      "execution_count": null,
      "outputs": []
    },
    {
      "cell_type": "code",
      "metadata": {
        "id": "1Ov-hAXR2MQB"
      },
      "source": [
        "CV_rfc = GridSearchCV(estimator=rfc, param_grid=param_grid, cv=5)\n",
        "CV_rfc.fit(X_train, y_train)"
      ],
      "execution_count": null,
      "outputs": []
    },
    {
      "cell_type": "code",
      "metadata": {
        "id": "SzvwHs5h3x7m"
      },
      "source": [
        "CV_rfc.best_params_"
      ],
      "execution_count": null,
      "outputs": []
    },
    {
      "cell_type": "code",
      "metadata": {
        "id": "W0MnFCM83zj5"
      },
      "source": [
        "rfc1=RandomForestClassifier(random_state=42, max_features=0.5, n_estimators= 150, min_samples_split=4)"
      ],
      "execution_count": null,
      "outputs": []
    },
    {
      "cell_type": "code",
      "metadata": {
        "id": "kMsbSfF94APv"
      },
      "source": [
        "rfc1.fit(X_train, y_train)"
      ],
      "execution_count": null,
      "outputs": []
    },
    {
      "cell_type": "code",
      "metadata": {
        "id": "rJHzI0mU35qi"
      },
      "source": [
        "pred = rfc1.predict(X_test)"
      ],
      "execution_count": null,
      "outputs": []
    },
    {
      "cell_type": "code",
      "metadata": {
        "id": "YWSZPBUe38us"
      },
      "source": [
        "print(\"Accuracy for Random Forest on CV data: \",accuracy_score(y_test,pred))"
      ],
      "execution_count": null,
      "outputs": []
    },
    {
      "cell_type": "code",
      "metadata": {
        "id": "ZwS0Oi54CqaY"
      },
      "source": [
        "pd.set_option('display.max_rows', 100)"
      ],
      "execution_count": null,
      "outputs": []
    },
    {
      "cell_type": "code",
      "metadata": {
        "id": "D3r6ba59rrX-"
      },
      "source": [
        "feature_imp = pd.Series(clf.feature_importances_,index=X.columns).sort_values(ascending=False)\n",
        "feature_imp"
      ],
      "execution_count": null,
      "outputs": []
    },
    {
      "cell_type": "code",
      "metadata": {
        "id": "DgmiEvW1r11z"
      },
      "source": [
        "from sklearn.feature_selection import SelectFromModel\n",
        "feat_sel = SelectFromModel(clf,threshold=0.013)\n",
        "feat_sel.fit(X_train, y_train)"
      ],
      "execution_count": null,
      "outputs": []
    },
    {
      "cell_type": "code",
      "metadata": {
        "id": "z5VGOAXGsAY-"
      },
      "source": [
        "X_imp_train = feat_sel.transform(X_train)\n",
        "X_imp_test = feat_sel.transform(X_test)"
      ],
      "execution_count": null,
      "outputs": []
    },
    {
      "cell_type": "code",
      "metadata": {
        "id": "EU5xJP_hsFmm"
      },
      "source": [
        "CV_rfc_imp = GridSearchCV(estimator=rfc, param_grid=param_grid, cv=5)\n",
        "CV_rfc_imp.fit(X_imp_train, y_train)"
      ],
      "execution_count": null,
      "outputs": []
    },
    {
      "cell_type": "code",
      "metadata": {
        "id": "zlpMgoOf5Eiv"
      },
      "source": [
        "CV_rfc_imp.best_params_"
      ],
      "execution_count": null,
      "outputs": []
    },
    {
      "cell_type": "code",
      "metadata": {
        "id": "5XfJNj765IGH"
      },
      "source": [
        "rfc_imp = RandomForestClassifier(random_state=42, max_features=0.5, n_estimators=250, min_samples_split=2)"
      ],
      "execution_count": null,
      "outputs": []
    },
    {
      "cell_type": "code",
      "metadata": {
        "id": "I_9Q51rU5LlR"
      },
      "source": [
        "rfc_imp.fit(X_imp_train, y_train)"
      ],
      "execution_count": null,
      "outputs": []
    },
    {
      "cell_type": "code",
      "metadata": {
        "id": "DvYWU-0_5R7n"
      },
      "source": [
        "pred_imp = rfc_imp.predict(X_imp_test)"
      ],
      "execution_count": null,
      "outputs": []
    },
    {
      "cell_type": "code",
      "metadata": {
        "id": "4K8yPJGZ5Xu2"
      },
      "source": [
        "print(\"Accuracy for Random Forest on CV data: \",accuracy_score(y_test,pred_imp))"
      ],
      "execution_count": null,
      "outputs": []
    }
  ]
}